{
 "cells": [
  {
   "cell_type": "markdown",
   "metadata": {},
   "source": [
    "### Import libraries"
   ]
  },
  {
   "cell_type": "code",
   "metadata": {
    "ExecuteTime": {
     "end_time": "2025-02-04T17:06:23.285042Z",
     "start_time": "2025-02-04T17:06:23.279993Z"
    }
   },
   "source": [
    "import numpy as np\n",
    "import matplotlib.pyplot as plt\n",
    "\n",
    "import torch\n",
    "import torchvision\n",
    "import torch.nn as nn\n",
    "import torch.nn.functional as F\n",
    "import torchvision.transforms as transforms"
   ],
   "outputs": [],
   "execution_count": 10
  },
  {
   "cell_type": "markdown",
   "metadata": {},
   "source": [
    "### Load CIFAR data\n",
    "* cifar 10 - labelled subsets of a larger dataset which contains 10 categories of images\n",
    "* Load training and test datasets\n",
    "* Apply transforms\n",
    "* Define dataloaders for training and testing"
   ]
  },
  {
   "cell_type": "code",
   "metadata": {
    "ExecuteTime": {
     "end_time": "2025-02-04T17:06:23.294639Z",
     "start_time": "2025-02-04T17:06:23.286410Z"
    }
   },
   "source": [
    "mean = [0.49140126, 0.4821608,  0.44652855]\n",
    "std = [0.24703369, 0.24348529, 0.26158836]"
   ],
   "outputs": [],
   "execution_count": 11
  },
  {
   "cell_type": "code",
   "metadata": {
    "ExecuteTime": {
     "end_time": "2025-02-04T17:06:23.303039Z",
     "start_time": "2025-02-04T17:06:23.295960Z"
    }
   },
   "source": [
    "train_transform = transforms.Compose([\n",
    "    transforms.Resize(32),\n",
    "    transforms.RandomHorizontalFlip(),\n",
    "    transforms.ToTensor(),\n",
    "    transforms.Normalize(mean, std)\n",
    "])"
   ],
   "outputs": [],
   "execution_count": 12
  },
  {
   "cell_type": "code",
   "metadata": {
    "ExecuteTime": {
     "end_time": "2025-02-04T17:06:23.312568Z",
     "start_time": "2025-02-04T17:06:23.306049Z"
    }
   },
   "source": [
    "test_transform = transforms.Compose([\n",
    "    transforms.Resize(32),\n",
    "    transforms.ToTensor(),\n",
    "    transforms.Normalize(mean, std)\n",
    "])"
   ],
   "outputs": [],
   "execution_count": 13
  },
  {
   "cell_type": "code",
   "metadata": {
    "ExecuteTime": {
     "end_time": "2025-02-04T17:06:24.262638Z",
     "start_time": "2025-02-04T17:06:23.314139Z"
    }
   },
   "source": [
    "trainset = torchvision.datasets.CIFAR10(root='../datasets/cifar10/train',\n",
    "                                        train=True,\n",
    "                                        download=True,\n",
    "                                        transform=train_transform)"
   ],
   "outputs": [
    {
     "name": "stdout",
     "output_type": "stream",
     "text": [
      "Files already downloaded and verified\n"
     ]
    }
   ],
   "execution_count": 14
  },
  {
   "cell_type": "code",
   "metadata": {
    "ExecuteTime": {
     "end_time": "2025-02-04T17:06:25.025441Z",
     "start_time": "2025-02-04T17:06:24.264022Z"
    }
   },
   "source": [
    "testset = torchvision.datasets.CIFAR10(root='../datasets/cifar10/test',\n",
    "                                       train=False,\n",
    "                                       download=True,\n",
    "                                       transform=test_transform)"
   ],
   "outputs": [
    {
     "name": "stdout",
     "output_type": "stream",
     "text": [
      "Files already downloaded and verified\n"
     ]
    }
   ],
   "execution_count": 15
  },
  {
   "cell_type": "code",
   "metadata": {
    "ExecuteTime": {
     "end_time": "2025-02-04T17:06:25.031588Z",
     "start_time": "2025-02-04T17:06:25.026763Z"
    }
   },
   "source": [
    "trainloader = torch.utils.data.DataLoader(trainset,\n",
    "                                          batch_size=8,\n",
    "                                          shuffle=True,\n",
    "                                          num_workers=2)"
   ],
   "outputs": [],
   "execution_count": 16
  },
  {
   "cell_type": "code",
   "metadata": {
    "ExecuteTime": {
     "end_time": "2025-02-04T17:06:25.077773Z",
     "start_time": "2025-02-04T17:06:25.032599Z"
    }
   },
   "source": [
    "testloader = torch.utils.data.DataLoader(trainset,\n",
    "                                         batch_size=8,\n",
    "                                         shuffle=False,\n",
    "                                         num_workers=2)"
   ],
   "outputs": [],
   "execution_count": 17
  },
  {
   "cell_type": "markdown",
   "metadata": {},
   "source": [
    "#### Configuring the neural network\n",
    "* The input size will be the channels of the images (in_size)\n",
    "* The final output will have a size equal to the number of classes for the prediction\n",
    "* The convolving kernel will have a size of k_conv_size"
   ]
  },
  {
   "cell_type": "code",
   "metadata": {
    "ExecuteTime": {
     "end_time": "2025-02-04T17:06:25.089910Z",
     "start_time": "2025-02-04T17:06:25.078781Z"
    }
   },
   "source": [
    "in_size = 3\n",
    "\n",
    "hid1_size = 16\n",
    "hid2_size = 32\n",
    "\n",
    "out1_size = 400\n",
    "out2_size = 10\n",
    "\n",
    "k_conv_size = 5"
   ],
   "outputs": [],
   "execution_count": 18
  },
  {
   "cell_type": "markdown",
   "metadata": {},
   "source": [
    "### Define the Convolutional Neural Network\n",
    "\n",
    "<b>Conv2d: </b>Applies a 2D convolution over an input signal composed of several input planes.<br>\n",
    "Parameters<br>\n",
    "in_channels (int) – Number of channels in the input image<br>\n",
    "out_channels (int) – Number of channels produced by the convolution<br>\n",
    "kernel_size (int or tuple) – Size of the convolving kernel<br>\n",
    "\n",
    "<b>BatchNorm2d: </b>Applies Batch Normalization over a 4D input (a mini-batch of 2D inputs with additional channel dimension) as described in the paper Batch Normalization: Accelerating Deep Network Training by Reducing Internal Covariate Shift .\n",
    "Parameters<br>\n",
    "num_features – C from an expected input of size (N,C,H,W)\n",
    "\n",
    "<b>ReLU: </b>Activation function\n",
    "\n",
    "<b>Maxpool2d: </b>\n",
    "Parameters:<br>\n",
    "kernel_size – the size of the window to take a max over\n",
    "\n",
    "<b>Linear: </b>\n",
    "Parameter:<br>\n",
    "\n",
    "in_features: \n",
    "All the operations above used 4D Tensors of shape \n",
    "\n",
    "Now for fully connected layers(linear layers) we need to transform them in 1D Tensors<br>\n",
    "So to the in_features of fully connected layer we will give size\n",
    "out_features:<br>\n",
    "num_classes = number of output labels\n",
    "\n"
   ]
  },
  {
   "cell_type": "code",
   "metadata": {
    "ExecuteTime": {
     "end_time": "2025-02-04T17:06:25.098585Z",
     "start_time": "2025-02-04T17:06:25.090918Z"
    }
   },
   "source": [
    "#In LPPool, p=1 gives sum pooling"
   ],
   "outputs": [],
   "execution_count": 19
  },
  {
   "cell_type": "code",
   "metadata": {
    "ExecuteTime": {
     "end_time": "2025-02-04T17:06:25.109542Z",
     "start_time": "2025-02-04T17:06:25.099593Z"
    }
   },
   "source": [
    "class ConvNet(nn.Module):\n",
    "    \n",
    "    def __init__(self):\n",
    "        super(ConvNet, self).__init__()\n",
    "        \n",
    "        self.layer1 = nn.Sequential(\n",
    "            nn.Conv2d(in_size, hid1_size, k_conv_size),\n",
    "            nn.BatchNorm2d(hid1_size),\n",
    "            nn.ReLU(),\n",
    "            nn.MaxPool2d(kernel_size=2)) # Re-run for nn.AvgPool2d(kernel_size=2))\n",
    "                                         # nn.LPPool2d(1, kernel_size=2))\n",
    "                                         # 2-dimensional power average pooling: \n",
    "                                         # p = infinity gives Max Pooling\n",
    "                                         # p = 1 gives Average Pooling\n",
    "        \n",
    "        self.layer2 = nn.Sequential(\n",
    "            nn.Conv2d(hid1_size, hid2_size, k_conv_size),\n",
    "            nn.BatchNorm2d(hid2_size),\n",
    "            nn.ReLU(),\n",
    "            nn.MaxPool2d(kernel_size=2)) # Re-run for nn.AvgPool2d(kernel_size=2))\n",
    "                                         # nn.LPPool2d(1, kernel_size=2))\n",
    "                                         # 2-dimensional power average pooling: \n",
    "                                         # p = infinity gives Max Pooling\n",
    "                                         # p = 1 gives Average Pooling\n",
    "        \n",
    "        self.layer3 = nn.Sequential(\n",
    "            nn.Linear(hid2_size * k_conv_size * k_conv_size, out1_size),\n",
    "            nn.ReLU(),\n",
    "            nn.Dropout(0.5),\n",
    "            nn.Linear(out1_size, out2_size))\n",
    "        \n",
    "        \n",
    "    def forward(self, x):\n",
    "        \n",
    "        out = self.layer1(x)\n",
    "        out = self.layer2(out)\n",
    "        \n",
    "        out = out.reshape(out.size(0), -1)\n",
    "        \n",
    "        out = self.layer3(out)\n",
    "        \n",
    "        return F.log_softmax(out, dim=-1)"
   ],
   "outputs": [],
   "execution_count": 20
  },
  {
   "cell_type": "code",
   "metadata": {
    "ExecuteTime": {
     "end_time": "2025-02-04T17:06:25.161179Z",
     "start_time": "2025-02-04T17:06:25.111065Z"
    }
   },
   "source": [
    "model = ConvNet()"
   ],
   "outputs": [],
   "execution_count": 21
  },
  {
   "cell_type": "code",
   "metadata": {
    "ExecuteTime": {
     "end_time": "2025-02-04T17:06:26.258873Z",
     "start_time": "2025-02-04T17:06:25.165999Z"
    }
   },
   "source": [
    "device = torch.device(\"cuda\" if torch.cuda.is_available() else \"cpu\")\n",
    "\n",
    "print(device)"
   ],
   "outputs": [
    {
     "name": "stdout",
     "output_type": "stream",
     "text": [
      "cuda\n"
     ]
    }
   ],
   "execution_count": 22
  },
  {
   "cell_type": "code",
   "metadata": {
    "ExecuteTime": {
     "end_time": "2025-02-04T17:06:26.385900Z",
     "start_time": "2025-02-04T17:06:26.260386Z"
    }
   },
   "source": [
    "model.to(device)"
   ],
   "outputs": [
    {
     "data": {
      "text/plain": [
       "ConvNet(\n",
       "  (layer1): Sequential(\n",
       "    (0): Conv2d(3, 16, kernel_size=(5, 5), stride=(1, 1))\n",
       "    (1): BatchNorm2d(16, eps=1e-05, momentum=0.1, affine=True, track_running_stats=True)\n",
       "    (2): ReLU()\n",
       "    (3): MaxPool2d(kernel_size=2, stride=2, padding=0, dilation=1, ceil_mode=False)\n",
       "  )\n",
       "  (layer2): Sequential(\n",
       "    (0): Conv2d(16, 32, kernel_size=(5, 5), stride=(1, 1))\n",
       "    (1): BatchNorm2d(32, eps=1e-05, momentum=0.1, affine=True, track_running_stats=True)\n",
       "    (2): ReLU()\n",
       "    (3): MaxPool2d(kernel_size=2, stride=2, padding=0, dilation=1, ceil_mode=False)\n",
       "  )\n",
       "  (layer3): Sequential(\n",
       "    (0): Linear(in_features=800, out_features=400, bias=True)\n",
       "    (1): ReLU()\n",
       "    (2): Dropout(p=0.5, inplace=False)\n",
       "    (3): Linear(in_features=400, out_features=10, bias=True)\n",
       "  )\n",
       ")"
      ]
     },
     "execution_count": 23,
     "metadata": {},
     "output_type": "execute_result"
    }
   ],
   "execution_count": 23
  },
  {
   "cell_type": "code",
   "metadata": {
    "ExecuteTime": {
     "end_time": "2025-02-04T17:06:26.392030Z",
     "start_time": "2025-02-04T17:06:26.386907Z"
    }
   },
   "source": [
    "learning_rate = 0.0001\n",
    "\n",
    "criterion = nn.NLLLoss()\n",
    "\n",
    "optimizer = torch.optim.Adam(model.parameters(),  lr=learning_rate)"
   ],
   "outputs": [],
   "execution_count": 24
  },
  {
   "cell_type": "markdown",
   "metadata": {},
   "source": [
    "#### Training the model and predicting accuracy"
   ]
  },
  {
   "cell_type": "code",
   "metadata": {
    "ExecuteTime": {
     "end_time": "2025-02-04T17:12:48.191005Z",
     "start_time": "2025-02-04T17:06:26.393556Z"
    }
   },
   "source": [
    "total_step = len(trainloader)\n",
    "num_epochs = 10\n",
    "loss_values = list()\n",
    "\n",
    "\n",
    "for epoch in range(num_epochs):\n",
    "    for i, (images, labels) in enumerate(trainloader):\n",
    "        \n",
    "        images, labels = images.to(device), labels.to(device)\n",
    "        outputs = model(images)\n",
    "        loss = criterion(outputs, labels)\n",
    "        \n",
    "        optimizer.zero_grad()\n",
    "        loss.backward()\n",
    "        optimizer.step()\n",
    "        \n",
    "        if (i+1) % 2000 == 0:\n",
    "            print ('Epoch [{}/{}], Step [{}/{}], Loss: {:.4f}' \n",
    "                   .format(epoch+1, num_epochs, i+1, total_step, loss.item()))\n",
    "            \n",
    "            loss_values.append(loss.item())\n",
    "            \n",
    "print('Finished Training')    \n"
   ],
   "outputs": [
    {
     "name": "stdout",
     "output_type": "stream",
     "text": [
      "Epoch [1/10], Step [2000/6250], Loss: 1.2572\n",
      "Epoch [1/10], Step [4000/6250], Loss: 0.7210\n",
      "Epoch [1/10], Step [6000/6250], Loss: 1.4323\n",
      "Epoch [2/10], Step [2000/6250], Loss: 0.8339\n",
      "Epoch [2/10], Step [4000/6250], Loss: 1.6341\n",
      "Epoch [2/10], Step [6000/6250], Loss: 1.1350\n",
      "Epoch [3/10], Step [2000/6250], Loss: 1.4198\n",
      "Epoch [3/10], Step [4000/6250], Loss: 1.2910\n",
      "Epoch [3/10], Step [6000/6250], Loss: 1.0047\n",
      "Epoch [4/10], Step [2000/6250], Loss: 0.8569\n",
      "Epoch [4/10], Step [4000/6250], Loss: 0.7305\n",
      "Epoch [4/10], Step [6000/6250], Loss: 1.0637\n",
      "Epoch [5/10], Step [2000/6250], Loss: 1.2728\n",
      "Epoch [5/10], Step [4000/6250], Loss: 1.0904\n",
      "Epoch [5/10], Step [6000/6250], Loss: 0.7457\n",
      "Epoch [6/10], Step [2000/6250], Loss: 1.3323\n",
      "Epoch [6/10], Step [4000/6250], Loss: 1.0753\n",
      "Epoch [6/10], Step [6000/6250], Loss: 0.7754\n",
      "Epoch [7/10], Step [2000/6250], Loss: 1.2715\n",
      "Epoch [7/10], Step [4000/6250], Loss: 1.2400\n",
      "Epoch [7/10], Step [6000/6250], Loss: 1.1666\n",
      "Epoch [8/10], Step [2000/6250], Loss: 0.0965\n",
      "Epoch [8/10], Step [4000/6250], Loss: 0.9827\n",
      "Epoch [8/10], Step [6000/6250], Loss: 0.5316\n",
      "Epoch [9/10], Step [2000/6250], Loss: 0.6795\n",
      "Epoch [9/10], Step [4000/6250], Loss: 1.0310\n",
      "Epoch [9/10], Step [6000/6250], Loss: 1.5432\n",
      "Epoch [10/10], Step [2000/6250], Loss: 1.0118\n",
      "Epoch [10/10], Step [4000/6250], Loss: 0.8397\n",
      "Epoch [10/10], Step [6000/6250], Loss: 1.0787\n",
      "Finished Training\n"
     ]
    }
   ],
   "execution_count": 25
  },
  {
   "cell_type": "markdown",
   "metadata": {},
   "source": [
    "### Model Evaluation"
   ]
  },
  {
   "cell_type": "code",
   "metadata": {
    "ExecuteTime": {
     "end_time": "2025-02-04T17:12:48.476507Z",
     "start_time": "2025-02-04T17:12:48.193049Z"
    }
   },
   "source": [
    "x = (range(1, 31))\n",
    "\n",
    "plt.figure(figsize = (12, 10))\n",
    "plt.plot(x, loss_values)\n",
    "plt.xlabel('Step')\n",
    "plt.ylabel('Loss')"
   ],
   "outputs": [
    {
     "data": {
      "text/plain": [
       "Text(0, 0.5, 'Loss')"
      ]
     },
     "execution_count": 26,
     "metadata": {},
     "output_type": "execute_result"
    },
    {
     "data": {
      "text/plain": [
       "<Figure size 1200x1000 with 1 Axes>"
      ],
      "image/png": "[encoded data removed]"
     },
     "metadata": {},
     "output_type": "display_data"
    }
   ],
   "execution_count": 26
  },
  {
   "cell_type": "code",
   "metadata": {
    "ExecuteTime": {
     "end_time": "2025-02-04T17:13:11.001535Z",
     "start_time": "2025-02-04T17:12:48.477514Z"
    }
   },
   "source": [
    "model.eval()  \n",
    "\n",
    "with torch.no_grad():\n",
    "    correct = 0\n",
    "    total = 0\n",
    "\n",
    "    for images, labels in testloader:\n",
    "\n",
    "        images, labels = images.to(device), labels.to(device)\n",
    "        outputs = model(images)\n",
    "        _, predicted = torch.max(outputs.data, 1)\n",
    "        \n",
    "        total += labels.size(0)\n",
    "        correct += (predicted == labels).sum().item()\n",
    "\n",
    "    print('Accuracy of the model on the 10000 test images: {}%'\\\n",
    "          .format(100 * correct / total))\n"
   ],
   "outputs": [
    {
     "name": "stdout",
     "output_type": "stream",
     "text": [
      "Accuracy of the model on the 10000 test images: 75.256%\n"
     ]
    }
   ],
   "execution_count": 27
  },
  {
   "cell_type": "markdown",
   "metadata": {},
   "source": [
    "#### Sample Prediction"
   ]
  },
  {
   "cell_type": "code",
   "metadata": {
    "ExecuteTime": {
     "end_time": "2025-02-04T17:15:08.012323Z",
     "start_time": "2025-02-04T17:15:08.005303Z"
    }
   },
   "source": "sample_img, _ = testset[22]",
   "outputs": [],
   "execution_count": 44
  },
  {
   "cell_type": "code",
   "metadata": {
    "ExecuteTime": {
     "end_time": "2025-02-04T17:15:08.838951Z",
     "start_time": "2025-02-04T17:15:08.833576Z"
    }
   },
   "source": [
    "sample_img = np.transpose(sample_img, (1, 2, 0))"
   ],
   "outputs": [],
   "execution_count": 45
  },
  {
   "cell_type": "code",
   "metadata": {
    "ExecuteTime": {
     "end_time": "2025-02-04T17:15:09.622464Z",
     "start_time": "2025-02-04T17:15:09.616938Z"
    }
   },
   "source": [
    "m, M = sample_img.min(), sample_img.max()"
   ],
   "outputs": [],
   "execution_count": 46
  },
  {
   "cell_type": "code",
   "metadata": {
    "ExecuteTime": {
     "end_time": "2025-02-04T17:15:10.331012Z",
     "start_time": "2025-02-04T17:15:10.325890Z"
    }
   },
   "source": [
    "sample_img = (1/(abs(m) * M)) * sample_img + 0.5 "
   ],
   "outputs": [],
   "execution_count": 47
  },
  {
   "cell_type": "code",
   "metadata": {
    "ExecuteTime": {
     "end_time": "2025-02-04T17:15:11.206945Z",
     "start_time": "2025-02-04T17:15:11.037007Z"
    }
   },
   "source": [
    "plt.imshow(sample_img)"
   ],
   "outputs": [
    {
     "name": "stderr",
     "output_type": "stream",
     "text": [
      "Clipping input data to the valid range for imshow with RGB data ([0..1] for floats or [0..255] for integers).\n"
     ]
    },
    {
     "data": {
      "text/plain": [
       "<matplotlib.image.AxesImage at 0x173704cacc0>"
      ]
     },
     "execution_count": 48,
     "metadata": {},
     "output_type": "execute_result"
    },
    {
     "data": {
      "text/plain": [
       "<Figure size 640x480 with 1 Axes>"
      ],
      "image/png": "[encoded data removed]"
     },
     "metadata": {},
     "output_type": "display_data"
    }
   ],
   "execution_count": 48
  },
  {
   "cell_type": "code",
   "metadata": {
    "ExecuteTime": {
     "end_time": "2025-02-04T17:15:12.034393Z",
     "start_time": "2025-02-04T17:15:12.027209Z"
    }
   },
   "source": [
    "test_img, test_label = testset[23]\n",
    "test_img = test_img.reshape(-1,3,32,32)"
   ],
   "outputs": [],
   "execution_count": 49
  },
  {
   "cell_type": "code",
   "metadata": {
    "ExecuteTime": {
     "end_time": "2025-02-04T17:15:12.657652Z",
     "start_time": "2025-02-04T17:15:12.649951Z"
    }
   },
   "source": [
    "out_predict = model(test_img.to(device))\n",
    "_,predicted = torch.max(out_predict.data, 1)"
   ],
   "outputs": [],
   "execution_count": 50
  },
  {
   "cell_type": "code",
   "metadata": {
    "ExecuteTime": {
     "end_time": "2025-02-04T17:15:13.415483Z",
     "start_time": "2025-02-04T17:15:13.409076Z"
    }
   },
   "source": [
    "print(\"Actual Label : \", test_label)\n",
    "print(\"Predicted Label : \" ,predicted.item())"
   ],
   "outputs": [
    {
     "name": "stdout",
     "output_type": "stream",
     "text": [
      "Actual Label :  9\n",
      "Predicted Label :  9\n"
     ]
    }
   ],
   "execution_count": 51
  },
  {
   "cell_type": "code",
   "metadata": {
    "ExecuteTime": {
     "end_time": "2025-02-04T17:13:11.322520Z",
     "start_time": "2025-02-04T17:13:11.319519Z"
    }
   },
   "source": [],
   "outputs": [],
   "execution_count": 35
  },
  {
   "cell_type": "code",
   "metadata": {
    "ExecuteTime": {
     "end_time": "2025-02-04T17:13:11.327355Z",
     "start_time": "2025-02-04T17:13:11.323891Z"
    }
   },
   "source": [],
   "outputs": [],
   "execution_count": 35
  }
 ],
 "metadata": {
  "kernelspec": {
   "display_name": "Python 3 (ipykernel)",
   "language": "python",
   "name": "python3"
  },
  "language_info": {
   "codemirror_mode": {
    "name": "ipython",
    "version": 3
   },
   "file_extension": ".py",
   "mimetype": "text/x-python",
   "name": "python",
   "nbconvert_exporter": "python",
   "pygments_lexer": "ipython3",
   "version": "3.12.3"
  }
 },
 "nbformat": 4,
 "nbformat_minor": 4
}
