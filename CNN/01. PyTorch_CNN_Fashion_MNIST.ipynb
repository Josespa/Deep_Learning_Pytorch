{
 "cells": [
  {
   "cell_type": "code",
   "metadata": {
    "id": "2nHyhdZjxbL5",
    "tags": [],
    "ExecuteTime": {
     "end_time": "2025-02-15T18:29:56.686314Z",
     "start_time": "2025-02-15T18:29:53.934988Z"
    }
   },
   "source": [
    "import torch\n",
    "import torch.nn as nn\n",
    "import torchvision\n",
    "import torchvision.transforms as transforms\n",
    "import numpy as np\n",
    "import matplotlib.pyplot as plt\n",
    "from datetime import datetime"
   ],
   "outputs": [],
   "execution_count": 1
  },
  {
   "cell_type": "code",
   "metadata": {
    "id": "OtsuCeN5xqyw",
    "tags": [],
    "ExecuteTime": {
     "end_time": "2025-02-04T17:20:50.741546Z",
     "start_time": "2025-02-04T17:20:48.142497Z"
    }
   },
   "source": [
    "train_dataset = torchvision.datasets.FashionMNIST(\n",
    "    root='../datasets/fashionmnist/train',\n",
    "    train=True,\n",
    "    transform=transforms.ToTensor(),\n",
    "    download=True)"
   ],
   "outputs": [
    {
     "name": "stdout",
     "output_type": "stream",
     "text": [
      "Downloading http://fashion-mnist.s3-website.eu-central-1.amazonaws.com/train-images-idx3-ubyte.gz\n",
      "Downloading http://fashion-mnist.s3-website.eu-central-1.amazonaws.com/train-images-idx3-ubyte.gz to ../datasets/fashionmnist/train\\FashionMNIST\\raw\\train-images-idx3-ubyte.gz\n"
     ]
    },
    {
     "name": "stderr",
     "output_type": "stream",
     "text": [
      "100%|██████████| 26421880/26421880 [00:01<00:00, 22213749.41it/s]\n"
     ]
    },
    {
     "name": "stdout",
     "output_type": "stream",
     "text": [
      "Extracting ../datasets/fashionmnist/train\\FashionMNIST\\raw\\train-images-idx3-ubyte.gz to ../datasets/fashionmnist/train\\FashionMNIST\\raw\n",
      "\n",
      "Downloading http://fashion-mnist.s3-website.eu-central-1.amazonaws.com/train-labels-idx1-ubyte.gz\n",
      "Downloading http://fashion-mnist.s3-website.eu-central-1.amazonaws.com/train-labels-idx1-ubyte.gz to ../datasets/fashionmnist/train\\FashionMNIST\\raw\\train-labels-idx1-ubyte.gz\n"
     ]
    },
    {
     "name": "stderr",
     "output_type": "stream",
     "text": [
      "100%|██████████| 29515/29515 [00:00<00:00, 3924514.41it/s]"
     ]
    },
    {
     "name": "stdout",
     "output_type": "stream",
     "text": [
      "Extracting ../datasets/fashionmnist/train\\FashionMNIST\\raw\\train-labels-idx1-ubyte.gz to ../datasets/fashionmnist/train\\FashionMNIST\\raw\n",
      "\n",
      "Downloading http://fashion-mnist.s3-website.eu-central-1.amazonaws.com/t10k-images-idx3-ubyte.gz\n",
      "Downloading http://fashion-mnist.s3-website.eu-central-1.amazonaws.com/t10k-images-idx3-ubyte.gz to ../datasets/fashionmnist/train\\FashionMNIST\\raw\\t10k-images-idx3-ubyte.gz\n"
     ]
    },
    {
     "name": "stderr",
     "output_type": "stream",
     "text": [
      "\n",
      "100%|██████████| 4422102/4422102 [00:00<00:00, 21731322.28it/s]\n"
     ]
    },
    {
     "name": "stdout",
     "output_type": "stream",
     "text": [
      "Extracting ../datasets/fashionmnist/train\\FashionMNIST\\raw\\t10k-images-idx3-ubyte.gz to ../datasets/fashionmnist/train\\FashionMNIST\\raw\n",
      "\n",
      "Downloading http://fashion-mnist.s3-website.eu-central-1.amazonaws.com/t10k-labels-idx1-ubyte.gz\n",
      "Downloading http://fashion-mnist.s3-website.eu-central-1.amazonaws.com/t10k-labels-idx1-ubyte.gz to ../datasets/fashionmnist/train\\FashionMNIST\\raw\\t10k-labels-idx1-ubyte.gz\n"
     ]
    },
    {
     "name": "stderr",
     "output_type": "stream",
     "text": [
      "100%|██████████| 5148/5148 [00:00<?, ?it/s]\n"
     ]
    },
    {
     "name": "stdout",
     "output_type": "stream",
     "text": [
      "Extracting ../datasets/fashionmnist/train\\FashionMNIST\\raw\\t10k-labels-idx1-ubyte.gz to ../datasets/fashionmnist/train\\FashionMNIST\\raw\n",
      "\n"
     ]
    }
   ],
   "execution_count": 2
  },
  {
   "cell_type": "code",
   "metadata": {
    "colab": {
     "base_uri": "https://localhost:8080/",
     "height": 34
    },
    "id": "92W7FKoTxyie",
    "outputId": "6a499ad0-e608-492e-f752-ac543956062c",
    "tags": [],
    "ExecuteTime": {
     "end_time": "2025-02-04T17:20:50.760586Z",
     "start_time": "2025-02-04T17:20:50.743067Z"
    }
   },
   "source": [
    "train_dataset.data.max()"
   ],
   "outputs": [
    {
     "data": {
      "text/plain": [
       "tensor(255, dtype=torch.uint8)"
      ]
     },
     "execution_count": 3,
     "metadata": {},
     "output_type": "execute_result"
    }
   ],
   "execution_count": 3
  },
  {
   "cell_type": "code",
   "metadata": {
    "colab": {
     "base_uri": "https://localhost:8080/",
     "height": 34
    },
    "id": "P2-GLAX3x0ag",
    "outputId": "97480763-7f63-4afc-dddb-bbeb3f5b199f",
    "tags": [],
    "ExecuteTime": {
     "end_time": "2025-02-04T17:20:50.772445Z",
     "start_time": "2025-02-04T17:20:50.765788Z"
    }
   },
   "source": [
    "train_dataset.data.shape"
   ],
   "outputs": [
    {
     "data": {
      "text/plain": [
       "torch.Size([60000, 28, 28])"
      ]
     },
     "execution_count": 4,
     "metadata": {},
     "output_type": "execute_result"
    }
   ],
   "execution_count": 4
  },
  {
   "cell_type": "code",
   "metadata": {
    "colab": {
     "base_uri": "https://localhost:8080/",
     "height": 34
    },
    "id": "tkT2yp2Jx3JN",
    "outputId": "3b4fbbab-4ad2-4c04-bf65-0ed9a0d5a054",
    "tags": [],
    "ExecuteTime": {
     "end_time": "2025-02-04T17:20:50.784531Z",
     "start_time": "2025-02-04T17:20:50.773965Z"
    }
   },
   "source": [
    "train_dataset.targets"
   ],
   "outputs": [
    {
     "data": {
      "text/plain": [
       "tensor([9, 0, 0,  ..., 3, 0, 5])"
      ]
     },
     "execution_count": 5,
     "metadata": {},
     "output_type": "execute_result"
    }
   ],
   "execution_count": 5
  },
  {
   "cell_type": "code",
   "metadata": {
    "id": "ErmWTQ57x34T",
    "tags": [],
    "ExecuteTime": {
     "end_time": "2025-02-04T17:20:53.424274Z",
     "start_time": "2025-02-04T17:20:50.786049Z"
    }
   },
   "source": [
    "test_dataset = torchvision.datasets.FashionMNIST(\n",
    "    root='../datasets/fashionmnist/test',\n",
    "    train=False,\n",
    "    transform=transforms.ToTensor(),\n",
    "    download=True)"
   ],
   "outputs": [
    {
     "name": "stdout",
     "output_type": "stream",
     "text": [
      "Downloading http://fashion-mnist.s3-website.eu-central-1.amazonaws.com/train-images-idx3-ubyte.gz\n",
      "Downloading http://fashion-mnist.s3-website.eu-central-1.amazonaws.com/train-images-idx3-ubyte.gz to ../datasets/fashionmnist/test\\FashionMNIST\\raw\\train-images-idx3-ubyte.gz\n"
     ]
    },
    {
     "name": "stderr",
     "output_type": "stream",
     "text": [
      "100%|██████████| 26421880/26421880 [00:01<00:00, 19719274.69it/s]\n"
     ]
    },
    {
     "name": "stdout",
     "output_type": "stream",
     "text": [
      "Extracting ../datasets/fashionmnist/test\\FashionMNIST\\raw\\train-images-idx3-ubyte.gz to ../datasets/fashionmnist/test\\FashionMNIST\\raw\n",
      "\n",
      "Downloading http://fashion-mnist.s3-website.eu-central-1.amazonaws.com/train-labels-idx1-ubyte.gz\n",
      "Downloading http://fashion-mnist.s3-website.eu-central-1.amazonaws.com/train-labels-idx1-ubyte.gz to ../datasets/fashionmnist/test\\FashionMNIST\\raw\\train-labels-idx1-ubyte.gz\n"
     ]
    },
    {
     "name": "stderr",
     "output_type": "stream",
     "text": [
      "100%|██████████| 29515/29515 [00:00<00:00, 2267180.97it/s]"
     ]
    },
    {
     "name": "stdout",
     "output_type": "stream",
     "text": [
      "Extracting ../datasets/fashionmnist/test\\FashionMNIST\\raw\\train-labels-idx1-ubyte.gz to ../datasets/fashionmnist/test\\FashionMNIST\\raw\n",
      "\n",
      "Downloading http://fashion-mnist.s3-website.eu-central-1.amazonaws.com/t10k-images-idx3-ubyte.gz\n",
      "Downloading http://fashion-mnist.s3-website.eu-central-1.amazonaws.com/t10k-images-idx3-ubyte.gz to ../datasets/fashionmnist/test\\FashionMNIST\\raw\\t10k-images-idx3-ubyte.gz\n"
     ]
    },
    {
     "name": "stderr",
     "output_type": "stream",
     "text": [
      "\n",
      "100%|██████████| 4422102/4422102 [00:00<00:00, 16290623.14it/s]\n"
     ]
    },
    {
     "name": "stdout",
     "output_type": "stream",
     "text": [
      "Extracting ../datasets/fashionmnist/test\\FashionMNIST\\raw\\t10k-images-idx3-ubyte.gz to ../datasets/fashionmnist/test\\FashionMNIST\\raw\n",
      "\n",
      "Downloading http://fashion-mnist.s3-website.eu-central-1.amazonaws.com/t10k-labels-idx1-ubyte.gz\n",
      "Downloading http://fashion-mnist.s3-website.eu-central-1.amazonaws.com/t10k-labels-idx1-ubyte.gz to ../datasets/fashionmnist/test\\FashionMNIST\\raw\\t10k-labels-idx1-ubyte.gz\n"
     ]
    },
    {
     "name": "stderr",
     "output_type": "stream",
     "text": [
      "100%|██████████| 5148/5148 [00:00<00:00, 5155749.04it/s]"
     ]
    },
    {
     "name": "stdout",
     "output_type": "stream",
     "text": [
      "Extracting ../datasets/fashionmnist/test\\FashionMNIST\\raw\\t10k-labels-idx1-ubyte.gz to ../datasets/fashionmnist/test\\FashionMNIST\\raw\n",
      "\n"
     ]
    },
    {
     "name": "stderr",
     "output_type": "stream",
     "text": [
      "\n"
     ]
    }
   ],
   "execution_count": 6
  },
  {
   "cell_type": "code",
   "metadata": {
    "colab": {
     "base_uri": "https://localhost:8080/",
     "height": 34
    },
    "id": "zf2d9f66x9wV",
    "outputId": "6670dd2e-82a6-4ff8-817e-1ee75d02c741",
    "tags": [],
    "ExecuteTime": {
     "end_time": "2025-02-04T17:20:53.437643Z",
     "start_time": "2025-02-04T17:20:53.427796Z"
    }
   },
   "source": [
    "# number of classes\n",
    "K = len(set(train_dataset.targets.numpy()))\n",
    "print(\"number of classes:\", K)"
   ],
   "outputs": [
    {
     "name": "stdout",
     "output_type": "stream",
     "text": [
      "number of classes: 10\n"
     ]
    }
   ],
   "execution_count": 7
  },
  {
   "cell_type": "code",
   "metadata": {
    "id": "UKYv3XWHyjTL",
    "tags": [],
    "ExecuteTime": {
     "end_time": "2025-02-04T17:20:53.452878Z",
     "start_time": "2025-02-04T17:20:53.439659Z"
    }
   },
   "source": [
    "# Define the model\n",
    "class CNN(nn.Module):\n",
    "    def __init__(self, K):\n",
    "        super(CNN, self).__init__()\n",
    "        self.conv_layers = nn.Sequential(\n",
    "            nn.Conv2d(in_channels=1, out_channels=32, kernel_size=3, stride=2),\n",
    "            nn.ReLU(),\n",
    "            nn.Conv2d(in_channels=32, out_channels=64, kernel_size=3, stride=2),\n",
    "            nn.ReLU(),\n",
    "            nn.Conv2d(in_channels=64, out_channels=128, kernel_size=3, stride=2),\n",
    "            nn.ReLU()\n",
    "        )\n",
    "        # http://deeplearning.net/software/theano/tutorial/conv_arithmetic.html\n",
    "        # \"No zero padding, non-unit strides\"\n",
    "        # https://pytorch.org/docs/stable/nn.html\n",
    "        self.dense_layers = nn.Sequential(\n",
    "            nn.Dropout(0.2),\n",
    "            nn.Linear(128 * 2 * 2, 512),\n",
    "            nn.ReLU(),\n",
    "            nn.Dropout(0.2),\n",
    "            nn.Linear(512, K)\n",
    "        )\n",
    "  \n",
    "    def forward(self, X):\n",
    "        out = self.conv_layers(X)\n",
    "        out = out.view(out.size(0), -1)\n",
    "        out = self.dense_layers(out)\n",
    "        return out\n"
   ],
   "outputs": [],
   "execution_count": 8
  },
  {
   "cell_type": "code",
   "metadata": {
    "id": "W4YWDGpX1kNt",
    "tags": [],
    "ExecuteTime": {
     "end_time": "2025-02-04T17:20:53.468400Z",
     "start_time": "2025-02-04T17:20:53.454896Z"
    }
   },
   "source": [
    "# Instantiate the model\n",
    "model = CNN(K)"
   ],
   "outputs": [],
   "execution_count": 9
  },
  {
   "cell_type": "code",
   "metadata": {
    "id": "pHQ4tzuNkdm4",
    "ExecuteTime": {
     "end_time": "2025-02-04T17:20:53.476842Z",
     "start_time": "2025-02-04T17:20:53.470406Z"
    }
   },
   "source": [
    "# The same model! Using the newly introduced \"Flatten\"\n",
    "# model = nn.Sequential(\n",
    "#     nn.Conv2d(in_channels=1, out_channels=32, kernel_size=3, stride=2),\n",
    "#     nn.ReLU(),\n",
    "#     nn.Conv2d(in_channels=32, out_channels=64, kernel_size=3, stride=2),\n",
    "#     nn.ReLU(),\n",
    "#     nn.Conv2d(in_channels=64, out_channels=128, kernel_size=3, stride=2),\n",
    "#     nn.ReLU(),\n",
    "#     nn.Flatten(),\n",
    "#     nn.Dropout(0.2),\n",
    "#     nn.Linear(128 * 2 * 2, 512),\n",
    "#     nn.ReLU(),\n",
    "#     nn.Dropout(0.2),\n",
    "#     nn.Linear(512, K)   \n",
    "# )"
   ],
   "outputs": [],
   "execution_count": 10
  },
  {
   "cell_type": "code",
   "metadata": {
    "colab": {
     "base_uri": "https://localhost:8080/",
     "height": 323
    },
    "id": "lb-Fs4Z0RCfA",
    "outputId": "c2a993f8-650a-4695-dba9-e83882fa7451",
    "tags": [],
    "ExecuteTime": {
     "end_time": "2025-02-04T17:20:54.076448Z",
     "start_time": "2025-02-04T17:20:53.478180Z"
    }
   },
   "source": [
    "device = torch.device(\"cuda:0\" if torch.cuda.is_available() else \"cpu\")\n",
    "print(device)\n",
    "model.to(device)"
   ],
   "outputs": [
    {
     "name": "stdout",
     "output_type": "stream",
     "text": [
      "cuda:0\n"
     ]
    },
    {
     "data": {
      "text/plain": [
       "CNN(\n",
       "  (conv_layers): Sequential(\n",
       "    (0): Conv2d(1, 32, kernel_size=(3, 3), stride=(2, 2))\n",
       "    (1): ReLU()\n",
       "    (2): Conv2d(32, 64, kernel_size=(3, 3), stride=(2, 2))\n",
       "    (3): ReLU()\n",
       "    (4): Conv2d(64, 128, kernel_size=(3, 3), stride=(2, 2))\n",
       "    (5): ReLU()\n",
       "  )\n",
       "  (dense_layers): Sequential(\n",
       "    (0): Dropout(p=0.2, inplace=False)\n",
       "    (1): Linear(in_features=512, out_features=512, bias=True)\n",
       "    (2): ReLU()\n",
       "    (3): Dropout(p=0.2, inplace=False)\n",
       "    (4): Linear(in_features=512, out_features=10, bias=True)\n",
       "  )\n",
       ")"
      ]
     },
     "execution_count": 11,
     "metadata": {},
     "output_type": "execute_result"
    }
   ],
   "execution_count": 11
  },
  {
   "cell_type": "code",
   "metadata": {
    "id": "vcIQJicJ1sco",
    "tags": [],
    "ExecuteTime": {
     "end_time": "2025-02-04T17:20:54.081983Z",
     "start_time": "2025-02-04T17:20:54.077963Z"
    }
   },
   "source": [
    "# Loss and optimizer\n",
    "criterion = nn.CrossEntropyLoss()\n",
    "optimizer = torch.optim.Adam(model.parameters())"
   ],
   "outputs": [],
   "execution_count": 12
  },
  {
   "cell_type": "code",
   "metadata": {
    "id": "2YaUc5PN1_s0",
    "tags": [],
    "ExecuteTime": {
     "end_time": "2025-02-04T17:20:54.095980Z",
     "start_time": "2025-02-04T17:20:54.083524Z"
    }
   },
   "source": [
    "# Data loader\n",
    "# Useful because it automatically generates batches in the training loop\n",
    "# and takes care of shuffling\n",
    "\n",
    "batch_size = 128\n",
    "train_loader = torch.utils.data.DataLoader(dataset=train_dataset, \n",
    "                                           batch_size=batch_size, \n",
    "                                           shuffle=True)\n",
    "\n",
    "test_loader = torch.utils.data.DataLoader(dataset=test_dataset, \n",
    "                                          batch_size=batch_size, \n",
    "                                          shuffle=False)"
   ],
   "outputs": [],
   "execution_count": 13
  },
  {
   "cell_type": "code",
   "metadata": {
    "id": "bUDs5Dju1yE6",
    "tags": [],
    "ExecuteTime": {
     "end_time": "2025-02-04T17:20:54.108139Z",
     "start_time": "2025-02-04T17:20:54.099340Z"
    }
   },
   "source": [
    "# A function to encapsulate the training loop\n",
    "def batch_gd(model, criterion, optimizer, train_loader, test_loader, epochs):\n",
    "    train_losses = np.zeros(epochs)\n",
    "    test_losses = np.zeros(epochs)\n",
    "\n",
    "    for it in range(epochs):\n",
    "        model.train()\n",
    "        t0 = datetime.now()\n",
    "        train_loss = []\n",
    "        for inputs, targets in train_loader:\n",
    "            # move data to GPU\n",
    "            inputs, targets = inputs.to(device), targets.to(device)\n",
    "\n",
    "            # zero the parameter gradients\n",
    "            optimizer.zero_grad()\n",
    "\n",
    "            # Forward pass\n",
    "            outputs = model(inputs)\n",
    "            loss = criterion(outputs, targets)\n",
    "        \n",
    "            # Backward and optimize\n",
    "            loss.backward()\n",
    "            optimizer.step()\n",
    "\n",
    "            train_loss.append(loss.item())\n",
    "\n",
    "        # Get train loss and test loss\n",
    "        train_loss = np.mean(train_loss) # a little misleading\n",
    "    \n",
    "        model.eval()\n",
    "        test_loss = []\n",
    "        for inputs, targets in test_loader:\n",
    "            inputs, targets = inputs.to(device), targets.to(device)\n",
    "            outputs = model(inputs)\n",
    "            loss = criterion(outputs, targets)\n",
    "            test_loss.append(loss.item())\n",
    "        test_loss = np.mean(test_loss)\n",
    "\n",
    "        # Save losses\n",
    "        train_losses[it] = train_loss\n",
    "        test_losses[it] = test_loss\n",
    "    \n",
    "        dt = datetime.now() - t0\n",
    "        print(f'Epoch {it+1}/{epochs}, Train Loss: {train_loss:.6f}, Test Loss: {test_loss:.6f}, Duration: {dt}')\n",
    "\n",
    "    return train_losses, test_losses"
   ],
   "outputs": [],
   "execution_count": 14
  },
  {
   "cell_type": "code",
   "metadata": {
    "colab": {
     "base_uri": "https://localhost:8080/",
     "height": 272
    },
    "id": "6reGQj7e2ngB",
    "outputId": "ec58896d-e784-4967-b7fa-2e81869ba781",
    "tags": [],
    "ExecuteTime": {
     "end_time": "2025-02-04T17:23:35.577234Z",
     "start_time": "2025-02-04T17:20:54.110145Z"
    }
   },
   "source": [
    "train_losses, test_losses = batch_gd(model, criterion, optimizer, train_loader, test_loader, epochs=15)"
   ],
   "outputs": [
    {
     "name": "stdout",
     "output_type": "stream",
     "text": [
      "Epoch 1/15, Train Loss: 0.647480, Test Loss: 0.496594, Duration: 0:00:09.992098\n",
      "Epoch 2/15, Train Loss: 0.431396, Test Loss: 0.412834, Duration: 0:00:11.888844\n",
      "Epoch 3/15, Train Loss: 0.373947, Test Loss: 0.365485, Duration: 0:00:10.647703\n",
      "Epoch 4/15, Train Loss: 0.338787, Test Loss: 0.344808, Duration: 0:00:10.057834\n",
      "Epoch 5/15, Train Loss: 0.313264, Test Loss: 0.321128, Duration: 0:00:10.368127\n",
      "Epoch 6/15, Train Loss: 0.289501, Test Loss: 0.322046, Duration: 0:00:10.604972\n",
      "Epoch 7/15, Train Loss: 0.270831, Test Loss: 0.302241, Duration: 0:00:09.908574\n",
      "Epoch 8/15, Train Loss: 0.254397, Test Loss: 0.288109, Duration: 0:00:10.053487\n",
      "Epoch 9/15, Train Loss: 0.239037, Test Loss: 0.281531, Duration: 0:00:11.024691\n",
      "Epoch 10/15, Train Loss: 0.225621, Test Loss: 0.285005, Duration: 0:00:10.889247\n",
      "Epoch 11/15, Train Loss: 0.213302, Test Loss: 0.295949, Duration: 0:00:11.890650\n",
      "Epoch 12/15, Train Loss: 0.201659, Test Loss: 0.280340, Duration: 0:00:12.520083\n",
      "Epoch 13/15, Train Loss: 0.190393, Test Loss: 0.283858, Duration: 0:00:11.424728\n",
      "Epoch 14/15, Train Loss: 0.179748, Test Loss: 0.292047, Duration: 0:00:10.192942\n",
      "Epoch 15/15, Train Loss: 0.168365, Test Loss: 0.286927, Duration: 0:00:09.991207\n"
     ]
    }
   ],
   "execution_count": 15
  },
  {
   "cell_type": "code",
   "metadata": {
    "colab": {
     "base_uri": "https://localhost:8080/",
     "height": 265
    },
    "id": "i9lcGrRs46LY",
    "outputId": "bc86b80b-bbab-4609-8b7b-43f27ea75441",
    "tags": [],
    "ExecuteTime": {
     "end_time": "2025-02-04T17:23:35.823091Z",
     "start_time": "2025-02-04T17:23:35.579250Z"
    }
   },
   "source": [
    "# Plot the train loss and test loss per iteration\n",
    "plt.plot(train_losses, label='train loss')\n",
    "plt.plot(test_losses, label='test loss')\n",
    "plt.legend()\n",
    "plt.grid()\n",
    "plt.show()"
   ],
   "outputs": [
    {
     "data": {
      "text/plain": [
       "<Figure size 640x480 with 1 Axes>"
      ],
      "image/png": "[encoded data removed]"
     },
     "metadata": {},
     "output_type": "display_data"
    }
   ],
   "execution_count": 16
  },
  {
   "cell_type": "code",
   "metadata": {
    "colab": {
     "base_uri": "https://localhost:8080/",
     "height": 34
    },
    "id": "8PyRq_4I5UoR",
    "outputId": "e5d186ca-ef90-4f5d-bf85-8d1d706b9e56",
    "tags": [],
    "ExecuteTime": {
     "end_time": "2025-02-04T17:23:45.697396Z",
     "start_time": "2025-02-04T17:23:35.823632Z"
    }
   },
   "source": [
    "# Accuracy\n",
    "\n",
    "model.eval()\n",
    "n_correct = 0.\n",
    "n_total = 0.\n",
    "for inputs, targets in train_loader:\n",
    "    # move data to GPU\n",
    "    inputs, targets = inputs.to(device), targets.to(device)\n",
    "\n",
    "    # Forward pass\n",
    "    outputs = model(inputs)\n",
    "\n",
    "    # Get prediction\n",
    "    # torch.max returns both max and argmax\n",
    "    _, predictions = torch.max(outputs, 1)\n",
    "  \n",
    "    # update counts\n",
    "    n_correct += (predictions == targets).sum().item()\n",
    "    n_total += targets.shape[0]\n",
    "\n",
    "train_acc = n_correct / n_total\n",
    "\n",
    "\n",
    "n_correct = 0.\n",
    "n_total = 0.\n",
    "for inputs, targets in test_loader:\n",
    "    # move data to GPU\n",
    "    inputs, targets = inputs.to(device), targets.to(device)\n",
    "\n",
    "    # Forward pass\n",
    "    outputs = model(inputs)\n",
    "\n",
    "    # Get prediction\n",
    "    # torch.max returns both max and argmax\n",
    "    _, predictions = torch.max(outputs, 1)\n",
    "  \n",
    "    # update counts\n",
    "    n_correct += (predictions == targets).sum().item()\n",
    "    n_total += targets.shape[0]\n",
    "\n",
    "test_acc = n_correct / n_total\n",
    "print(f\"Train acc: {train_acc:.6f}, Test acc: {test_acc:.6f}\")"
   ],
   "outputs": [
    {
     "name": "stdout",
     "output_type": "stream",
     "text": [
      "Train acc: 0.955633, Test acc: 0.905200\n"
     ]
    }
   ],
   "execution_count": 17
  },
  {
   "cell_type": "code",
   "metadata": {
    "id": "thYrBZd45eqS",
    "tags": [],
    "ExecuteTime": {
     "end_time": "2025-02-04T17:23:46.395890Z",
     "start_time": "2025-02-04T17:23:45.698729Z"
    }
   },
   "source": [
    "# Confusion matrix\n",
    "from sklearn.metrics import confusion_matrix\n",
    "import itertools\n",
    "\n",
    "def plot_confusion_matrix(cm, classes,\n",
    "                          normalize=False,\n",
    "                          title='Confusion matrix',\n",
    "                          cmap=plt.cm.Blues):\n",
    "    \"\"\"\n",
    "    This function prints and plots the confusion matrix.\n",
    "    Normalization can be applied by setting `normalize=True`.\n",
    "    \"\"\"\n",
    "    if normalize:\n",
    "        cm = cm.astype('float') / cm.sum(axis=1)[:, np.newaxis]\n",
    "        print(\"Normalized confusion matrix\")\n",
    "    else:\n",
    "        print('Confusion matrix, without normalization')\n",
    "\n",
    "    print(cm)\n",
    "\n",
    "    plt.imshow(cm, interpolation='nearest', cmap=cmap)\n",
    "    plt.title(title)\n",
    "    plt.colorbar()\n",
    "    tick_marks = np.arange(len(classes))\n",
    "    plt.xticks(tick_marks, classes, rotation=45)\n",
    "    plt.yticks(tick_marks, classes)\n",
    "\n",
    "    fmt = '.2f' if normalize else 'd'\n",
    "    thresh = cm.max() / 2.\n",
    "    for i, j in itertools.product(range(cm.shape[0]), range(cm.shape[1])):\n",
    "        plt.text(j, i, format(cm[i, j], fmt),\n",
    "               horizontalalignment=\"center\",\n",
    "               color=\"white\" if cm[i, j] > thresh else \"black\")\n",
    "\n",
    "    plt.tight_layout()\n",
    "    plt.ylabel('True label')\n",
    "    plt.xlabel('Predicted label')\n",
    "    plt.show()"
   ],
   "outputs": [],
   "execution_count": 18
  },
  {
   "cell_type": "code",
   "metadata": {
    "colab": {
     "base_uri": "https://localhost:8080/",
     "height": 498
    },
    "id": "KQRgUZCU5hDL",
    "outputId": "99cb4da8-9dba-4aa8-c77f-3968451d9f9b",
    "tags": [],
    "ExecuteTime": {
     "end_time": "2025-02-04T17:23:48.106834Z",
     "start_time": "2025-02-04T17:23:46.397897Z"
    }
   },
   "source": [
    "# get all predictions in an array and plot confusion matrix\n",
    "\n",
    "x_test = test_dataset.data.numpy()\n",
    "y_test = test_dataset.targets.numpy()\n",
    "p_test = np.array([])\n",
    "for inputs, targets in test_loader:\n",
    "    # move data to GPU\n",
    "    inputs, targets = inputs.to(device), targets.to(device)\n",
    "\n",
    "    # Forward pass\n",
    "    outputs = model(inputs)\n",
    "\n",
    "    # Get prediction\n",
    "    _, predictions = torch.max(outputs, 1)\n",
    "  \n",
    "    # update p_test\n",
    "    p_test = np.concatenate((p_test, predictions.cpu().numpy()))\n",
    "\n",
    "cm = confusion_matrix(y_test, p_test)\n",
    "plot_confusion_matrix(cm, list(range(10)))"
   ],
   "outputs": [
    {
     "name": "stdout",
     "output_type": "stream",
     "text": [
      "Confusion matrix, without normalization\n",
      "[[894   0  19  13   3   1  66   0   4   0]\n",
      " [  1 979   2  11   1   0   5   0   1   0]\n",
      " [ 27   0 853   9  52   0  59   0   0   0]\n",
      " [ 18   6  16 896  34   0  25   0   5   0]\n",
      " [  0   0  44  21 866   0  67   0   2   0]\n",
      " [  0   0   0   2   0 968   0  20   1   9]\n",
      " [129   0  60  21  83   0 699   0   8   0]\n",
      " [  0   0   0   0   0   6   0 981   2  11]\n",
      " [  4   2   6   2   3   2   5   3 972   1]\n",
      " [  1   0   0   0   0   8   0  47   0 944]]\n"
     ]
    },
    {
     "data": {
      "text/plain": [
       "<Figure size 640x480 with 2 Axes>"
      ],
      "image/png": "[encoded data removed]"
     },
     "metadata": {},
     "output_type": "display_data"
    }
   ],
   "execution_count": 19
  },
  {
   "cell_type": "code",
   "metadata": {
    "id": "rWj0eKjM5mp6",
    "tags": [],
    "ExecuteTime": {
     "end_time": "2025-02-04T17:23:48.113583Z",
     "start_time": "2025-02-04T17:23:48.108843Z"
    }
   },
   "source": [
    "# Label mapping\n",
    "labels = '''T-shirt/top\n",
    "Trouser\n",
    "Pullover\n",
    "Dress\n",
    "Coat\n",
    "Sandal\n",
    "Shirt\n",
    "Sneaker\n",
    "Bag\n",
    "Ankle boot'''.split(\"\\n\")"
   ],
   "outputs": [],
   "execution_count": 20
  },
  {
   "cell_type": "code",
   "metadata": {
    "colab": {
     "base_uri": "https://localhost:8080/",
     "height": 281
    },
    "id": "xHNAM8xA5uni",
    "outputId": "1e82fcd6-8d78-4fc3-fba9-a4ad43c63f54",
    "tags": [],
    "ExecuteTime": {
     "end_time": "2025-02-04T17:23:48.293165Z",
     "start_time": "2025-02-04T17:23:48.114704Z"
    }
   },
   "source": [
    "# Show some misclassified examples\n",
    "p_test = p_test.astype(np.uint8)\n",
    "misclassified_idx = np.where(p_test != y_test)[0]\n",
    "i = np.random.choice(misclassified_idx)\n",
    "plt.imshow(x_test[i].reshape(28,28), cmap='gray')\n",
    "plt.title(\"True label: %s Predicted: %s\" % (labels[y_test[i]], labels[p_test[i]]));"
   ],
   "outputs": [
    {
     "data": {
      "text/plain": [
       "<Figure size 640x480 with 1 Axes>"
      ],
      "image/png": "[encoded data removed]"
     },
     "metadata": {},
     "output_type": "display_data"
    }
   ],
   "execution_count": 21
  }
 ],
 "metadata": {
  "accelerator": "GPU",
  "colab": {
   "collapsed_sections": [],
   "name": "PyTorch CNN Fashion MNIST.ipynb",
   "provenance": []
  },
  "kernelspec": {
   "display_name": "Python 3 (ipykernel)",
   "language": "python",
   "name": "python3"
  },
  "language_info": {
   "codemirror_mode": {
    "name": "ipython",
    "version": 3
   },
   "file_extension": ".py",
   "mimetype": "text/x-python",
   "name": "python",
   "nbconvert_exporter": "python",
   "pygments_lexer": "ipython3",
   "version": "3.10.9"
  }
 },
 "nbformat": 4,
 "nbformat_minor": 4
}
