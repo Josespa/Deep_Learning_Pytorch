{
 "cells": [
  {
   "metadata": {},
   "cell_type": "markdown",
   "source": [
    "## Testing different architectures\n",
    "\n",
    "##### Loss function -> Cross entropy\n",
    "##### Optimizer -> SGD"
   ],
   "id": "1e102c9070928219"
  },
  {
   "cell_type": "code",
   "id": "initial_id",
   "metadata": {
    "collapsed": true,
    "ExecuteTime": {
     "end_time": "2025-02-14T21:38:31.964142Z",
     "start_time": "2025-02-14T21:38:28.799655Z"
    }
   },
   "source": [
    "import torch.nn as nn\n",
    "from classifier import (run_classifier, getting_data_batches, getting_total_batch_sizes, \n",
    "                        evaluating_classifier, CustomCNN, freeze_top_layers)"
   ],
   "outputs": [],
   "execution_count": 1
  },
  {
   "metadata": {
    "ExecuteTime": {
     "end_time": "2025-02-14T21:38:32.071308Z",
     "start_time": "2025-02-14T21:38:31.966159Z"
    }
   },
   "cell_type": "code",
   "source": [
    "epochs = 5\n",
    "batch_size = 8\n",
    "train_dir = '../datasets/brain_tumor/train'\n",
    "test_dir = '../datasets/brain_tumor/test'\n",
    "data_batches = getting_data_batches(train_dir, test_dir, batch_size)\n",
    "total_batch_sizes = getting_total_batch_sizes(data_batches['train'], data_batches['test'])"
   ],
   "id": "eb4bf0a22ea98ce7",
   "outputs": [],
   "execution_count": 2
  },
  {
   "metadata": {},
   "cell_type": "markdown",
   "source": "## Training a custom CNN",
   "id": "48a78584da271e14"
  },
  {
   "metadata": {
    "ExecuteTime": {
     "end_time": "2025-02-14T21:38:32.091256Z",
     "start_time": "2025-02-14T21:38:32.072819Z"
    }
   },
   "cell_type": "code",
   "source": [
    "custom_cnn = CustomCNN(num_classes=4)\n",
    "print('Custom CNN: {}'.format(custom_cnn))"
   ],
   "id": "628a1ed91d9e5d6c",
   "outputs": [
    {
     "name": "stdout",
     "output_type": "stream",
     "text": [
      "Custom CNN: CustomCNN(\n",
      "  (conv1): Conv2d(3, 32, kernel_size=(4, 4), stride=(1, 1))\n",
      "  (bn1): BatchNorm2d(32, eps=1e-05, momentum=0.1, affine=True, track_running_stats=True)\n",
      "  (conv2): Conv2d(32, 64, kernel_size=(4, 4), stride=(1, 1))\n",
      "  (bn2): BatchNorm2d(64, eps=1e-05, momentum=0.1, affine=True, track_running_stats=True)\n",
      "  (conv3): Conv2d(64, 128, kernel_size=(4, 4), stride=(1, 1))\n",
      "  (bn3): BatchNorm2d(128, eps=1e-05, momentum=0.1, affine=True, track_running_stats=True)\n",
      "  (conv4): Conv2d(128, 256, kernel_size=(4, 4), stride=(1, 1))\n",
      "  (bn4): BatchNorm2d(256, eps=1e-05, momentum=0.1, affine=True, track_running_stats=True)\n",
      "  (pool): MaxPool2d(kernel_size=3, stride=3, padding=0, dilation=1, ceil_mode=False)\n",
      "  (fc1): Linear(in_features=2304, out_features=512, bias=True)\n",
      "  (fc2): Linear(in_features=512, out_features=4, bias=True)\n",
      "  (flatten): Flatten(start_dim=1, end_dim=-1)\n",
      "  (relu): ReLU()\n",
      "  (dropout): Dropout(p=0.5, inplace=False)\n",
      ")\n"
     ]
    }
   ],
   "execution_count": 3
  },
  {
   "metadata": {
    "ExecuteTime": {
     "end_time": "2025-02-14T21:42:30.218399Z",
     "start_time": "2025-02-14T21:38:32.092261Z"
    }
   },
   "cell_type": "code",
   "source": [
    "run_classifier(custom_cnn, epochs, batch_size, data_batches,   '../models/Custom_CNN.pth')\n",
    "# evaluating_classifier(custom_cnn, data_batches, model_path='./models/Custom_CNN.pth')"
   ],
   "id": "5e8eefe8524a631d",
   "outputs": [
    {
     "name": "stdout",
     "output_type": "stream",
     "text": [
      "Total batch sizes: {'train': 714, 'test': 164}\n",
      "Epoch 0/4\n",
      "----------\n"
     ]
    },
    {
     "name": "stderr",
     "output_type": "stream",
     "text": [
      "C:\\Users\\joseg\\miniconda3\\Lib\\site-packages\\torch\\optim\\lr_scheduler.py:216: UserWarning: Detected call of `lr_scheduler.step()` before `optimizer.step()`. In PyTorch 1.1.0 and later, you should call them in the opposite order: `optimizer.step()` before `lr_scheduler.step()`.  Failure to do this will result in PyTorch skipping the first value of the learning rate schedule. See more details at https://pytorch.org/docs/stable/optim.html#how-to-adjust-learning-rate\n",
      "  warnings.warn(\n"
     ]
    },
    {
     "name": "stdout",
     "output_type": "stream",
     "text": [
      "train Loss: 4.4281 Acc: 0.7913\n",
      "test Loss: 3.1734 Acc: 0.8422\n",
      "Epoch 1/4\n",
      "----------\n",
      "train Loss: 2.2315 Acc: 0.8964\n",
      "test Loss: 2.4804 Acc: 0.8712\n",
      "Epoch 2/4\n",
      "----------\n",
      "train Loss: 1.5208 Acc: 0.9298\n",
      "test Loss: 2.1837 Acc: 0.8910\n",
      "Epoch 3/4\n",
      "----------\n",
      "train Loss: 1.0178 Acc: 0.9531\n",
      "test Loss: 0.9576 Acc: 0.9543\n",
      "Epoch 4/4\n",
      "----------\n",
      "train Loss: 0.4420 Acc: 0.9830\n",
      "test Loss: 0.7193 Acc: 0.9688\n",
      "Training complete\n",
      "Best val Acc: 0.968750\n",
      "Saving model to ./models/Custom_CNN.pth\n"
     ]
    },
    {
     "name": "stderr",
     "output_type": "stream",
     "text": [
      "D:\\joseg\\Documents\\Projects_practice\\courses\\Deep_Learning_Pytorch\\transfer_learning\\training_utils.py:57: FutureWarning: You are using `torch.load` with `weights_only=False` (the current default value), which uses the default pickle module implicitly. It is possible to construct malicious pickle data which will execute arbitrary code during unpickling (See https://github.com/pytorch/pytorch/blob/main/SECURITY.md#untrusted-models for more details). In a future release, the default value for `weights_only` will be flipped to `True`. This limits the functions that could be executed during unpickling. Arbitrary objects will no longer be allowed to be loaded via this mode unless they are explicitly allowlisted by the user via `torch.serialization.add_safe_globals`. We recommend you start setting `weights_only=True` for any use case where you don't have full control of the loaded file. Please open an issue on GitHub for any issues related to this experimental feature.\n",
      "  return model.load_state_dict(torch.load(path))\n"
     ]
    },
    {
     "name": "stdout",
     "output_type": "stream",
     "text": [
      "Accuracy of the model on the test images: 96.9488939740656%\n"
     ]
    }
   ],
   "execution_count": 4
  },
  {
   "metadata": {},
   "cell_type": "markdown",
   "source": "### Training VGG16 model, freeze top layers",
   "id": "12e0e88da48fe78a"
  },
  {
   "metadata": {
    "ExecuteTime": {
     "end_time": "2025-02-14T21:46:39.064587Z",
     "start_time": "2025-02-14T21:46:38.181413Z"
    }
   },
   "cell_type": "code",
   "source": [
    "from torchvision import models\n",
    "vgg16_model = models.vgg16(weights=True)"
   ],
   "id": "46c607db5e403f89",
   "outputs": [],
   "execution_count": 8
  },
  {
   "metadata": {
    "ExecuteTime": {
     "end_time": "2025-02-14T21:46:39.071198Z",
     "start_time": "2025-02-14T21:46:39.066094Z"
    }
   },
   "cell_type": "code",
   "source": [
    "def count_parameters(model):\n",
    "    # calculate the top number of layers that the model has\n",
    "    count = 0 \n",
    "    for child in model.children():\n",
    "        count+=1\n",
    "    return count\n",
    "count_parameters(vgg16_model)"
   ],
   "id": "2339c32d078728c2",
   "outputs": [
    {
     "data": {
      "text/plain": [
       "3"
      ]
     },
     "execution_count": 9,
     "metadata": {},
     "output_type": "execute_result"
    }
   ],
   "execution_count": 9
  },
  {
   "metadata": {},
   "cell_type": "code",
   "outputs": [],
   "execution_count": null,
   "source": [
    "# VGG16 freeze top layers\n",
    "vgg16_model = freeze_top_layers(vgg16_model, 1)\n",
    "# replace the last layer\n",
    "num_ftrs = vgg16_model.classifier[6].in_features\n",
    "vgg16_model.fc = nn.Linear(num_ftrs, 4)\n",
    "print('VGG16_freezing top layers: {}'.format(vgg16_model))"
   ],
   "id": "31ebe8a6b8da5e49"
  },
  {
   "metadata": {},
   "cell_type": "code",
   "outputs": [
    {
     "name": "stdout",
     "output_type": "stream",
     "text": [
      "VGG16_freezing first 2 layers: VGG(\n",
      "  (features): Sequential(\n",
      "    (0): Conv2d(3, 64, kernel_size=(3, 3), stride=(1, 1), padding=(1, 1))\n",
      "    (1): ReLU(inplace=True)\n",
      "    (2): Conv2d(64, 64, kernel_size=(3, 3), stride=(1, 1), padding=(1, 1))\n",
      "    (3): ReLU(inplace=True)\n",
      "    (4): MaxPool2d(kernel_size=2, stride=2, padding=0, dilation=1, ceil_mode=False)\n",
      "    (5): Conv2d(64, 128, kernel_size=(3, 3), stride=(1, 1), padding=(1, 1))\n",
      "    (6): ReLU(inplace=True)\n",
      "    (7): Conv2d(128, 128, kernel_size=(3, 3), stride=(1, 1), padding=(1, 1))\n",
      "    (8): ReLU(inplace=True)\n",
      "    (9): MaxPool2d(kernel_size=2, stride=2, padding=0, dilation=1, ceil_mode=False)\n",
      "    (10): Conv2d(128, 256, kernel_size=(3, 3), stride=(1, 1), padding=(1, 1))\n",
      "    (11): ReLU(inplace=True)\n",
      "    (12): Conv2d(256, 256, kernel_size=(3, 3), stride=(1, 1), padding=(1, 1))\n",
      "    (13): ReLU(inplace=True)\n",
      "    (14): Conv2d(256, 256, kernel_size=(3, 3), stride=(1, 1), padding=(1, 1))\n",
      "    (15): ReLU(inplace=True)\n",
      "    (16): MaxPool2d(kernel_size=2, stride=2, padding=0, dilation=1, ceil_mode=False)\n",
      "    (17): Conv2d(256, 512, kernel_size=(3, 3), stride=(1, 1), padding=(1, 1))\n",
      "    (18): ReLU(inplace=True)\n",
      "    (19): Conv2d(512, 512, kernel_size=(3, 3), stride=(1, 1), padding=(1, 1))\n",
      "    (20): ReLU(inplace=True)\n",
      "    (21): Conv2d(512, 512, kernel_size=(3, 3), stride=(1, 1), padding=(1, 1))\n",
      "    (22): ReLU(inplace=True)\n",
      "    (23): MaxPool2d(kernel_size=2, stride=2, padding=0, dilation=1, ceil_mode=False)\n",
      "    (24): Conv2d(512, 512, kernel_size=(3, 3), stride=(1, 1), padding=(1, 1))\n",
      "    (25): ReLU(inplace=True)\n",
      "    (26): Conv2d(512, 512, kernel_size=(3, 3), stride=(1, 1), padding=(1, 1))\n",
      "    (27): ReLU(inplace=True)\n",
      "    (28): Conv2d(512, 512, kernel_size=(3, 3), stride=(1, 1), padding=(1, 1))\n",
      "    (29): ReLU(inplace=True)\n",
      "    (30): MaxPool2d(kernel_size=2, stride=2, padding=0, dilation=1, ceil_mode=False)\n",
      "  )\n",
      "  (avgpool): AdaptiveAvgPool2d(output_size=(7, 7))\n",
      "  (classifier): Sequential(\n",
      "    (0): Linear(in_features=25088, out_features=4096, bias=True)\n",
      "    (1): ReLU(inplace=True)\n",
      "    (2): Dropout(p=0.5, inplace=False)\n",
      "    (3): Linear(in_features=4096, out_features=4096, bias=True)\n",
      "    (4): ReLU(inplace=True)\n",
      "    (5): Dropout(p=0.5, inplace=False)\n",
      "    (6): Linear(in_features=4096, out_features=1000, bias=True)\n",
      "  )\n",
      "  (fc): Linear(in_features=4096, out_features=4, bias=True)\n",
      ")\n"
     ]
    }
   ],
   "execution_count": 11,
   "source": [
    "saving_path_VGG16 = '../models/VGG16_freeze_top_layers.pth'\n",
    "run_classifier(vgg16_model, epochs, batch_size, data_batches, saving_path=saving_path_VGG16)\n",
    "# evaluating_classifier(custom_cnn, data_batches, model_path = saving_path)"
   ],
   "id": "4467605ceb6723e4"
  },
  {
   "metadata": {},
   "cell_type": "markdown",
   "source": "### Training Resnet18 model, freeze top layers",
   "id": "2a15f6bcb6145440"
  },
  {
   "metadata": {},
   "cell_type": "code",
   "outputs": [],
   "execution_count": null,
   "source": [
    "resnet18_model = models.resnet18(pretrained=True)\n",
    "count_parameters(resnet18_model)"
   ],
   "id": "4683b6064108a0e0"
  },
  {
   "metadata": {},
   "cell_type": "code",
   "outputs": [],
   "execution_count": null,
   "source": [
    "# Resnet18 freeze top layers\n",
    "resnet18_model = freeze_top_layers(resnet18_model, 6)\n",
    "# replace the last layer\n",
    "num_ftrs = resnet18_model.fc.in_features\n",
    "resnet18_model.fc = nn.Linear(num_ftrs, 4)"
   ],
   "id": "77518a228f8ce625"
  },
  {
   "metadata": {},
   "cell_type": "code",
   "outputs": [],
   "execution_count": null,
   "source": [
    "print('Resnet18_freezing top layers: {}'.format(resnet18_model))\n",
    "saving_path_resnet = '../models/Resnet18_freeze_top_layers.pth'\n",
    "run_classifier(resnet18_model, epochs, batch_size, data_batches, saving_path=saving_path_resnet)\n",
    "# evaluating_classifier(custom_cnn, data_batches, model_path = saving_path)"
   ],
   "id": "d3d56bbb56b8425e"
  }
 ],
 "metadata": {
  "kernelspec": {
   "display_name": "Python 3",
   "language": "python",
   "name": "python3"
  },
  "language_info": {
   "codemirror_mode": {
    "name": "ipython",
    "version": 2
   },
   "file_extension": ".py",
   "mimetype": "text/x-python",
   "name": "python",
   "nbconvert_exporter": "python",
   "pygments_lexer": "ipython2",
   "version": "2.7.6"
  }
 },
 "nbformat": 4,
 "nbformat_minor": 5
}
